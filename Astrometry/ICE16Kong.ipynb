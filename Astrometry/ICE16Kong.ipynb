{
 "cells": [
  {
   "cell_type": "markdown",
   "metadata": {},
   "source": [
    "### Question 2"
   ]
  },
  {
   "cell_type": "markdown",
   "metadata": {},
   "source": [
    "The image calibrated via Aladin gives us 5:35:21:650, -5:18:51.500.<br>\n",
    "The calibration via Astrometry gives us 5:35:31.421, -5:16:00.961.<br><br>\n",
    "The RA is different by arcsecond and the Dec is off by 2 arcminutes. The difference could be caused by human error in that the wrong stars were chosen for calibration, or maybe imaging error due to all the stars being stretched diagonally."
   ]
  },
  {
   "cell_type": "code",
   "execution_count": 61,
   "metadata": {
    "collapsed": true
   },
   "outputs": [],
   "source": [
    "import numpy as np\n",
    "import matplotlib.pyplot as plt\n",
    "from astropy.io import fits\n",
    "from glob import glob"
   ]
  },
  {
   "cell_type": "code",
   "execution_count": 62,
   "metadata": {},
   "outputs": [
    {
     "name": "stdout",
     "output_type": "stream",
     "text": [
      " Volume in drive C is Windows\n",
      " Volume Serial Number is D878-4535\n",
      "\n",
      " Directory of C:\\Users\\Rose\\Documents\\ASTR250\\ICE16\\M42_Feb2017_Images\n",
      "\n",
      "04/13/2018  08:35 PM    <DIR>          .\n",
      "04/13/2018  08:35 PM    <DIR>          ..\n",
      "03/24/2018  11:42 PM        16,663,680 M42_147_R_calibrated.fits\n",
      "03/20/2018  05:13 PM        16,663,680 M42_20180227_00000141_R.fits\n",
      "03/20/2018  05:13 PM        16,663,680 M42_20180227_00000142_G.fits\n",
      "03/20/2018  05:13 PM        16,663,680 M42_20180227_00000143_B.fits\n",
      "03/20/2018  05:13 PM        16,663,680 M42_20180227_00000144_R.fits\n",
      "03/20/2018  05:13 PM        16,663,680 M42_20180227_00000145_G.fits\n",
      "03/20/2018  05:13 PM        16,663,680 M42_20180227_00000146_B.fits\n",
      "03/20/2018  05:13 PM        16,663,680 M42_20180227_00000147_R.fits\n",
      "03/20/2018  05:13 PM        16,663,680 M42_20180227_00000148_R.fits\n",
      "03/20/2018  05:13 PM        16,663,680 M42_20180227_00000149_G.fits\n",
      "03/20/2018  05:13 PM        16,663,680 M42_20180227_00000150_G.fits\n",
      "03/20/2018  05:13 PM        16,663,680 M42_20180227_00000151_B.fits\n",
      "03/20/2018  05:13 PM        16,663,680 M42_20180227_00000152_B.fits\n",
      "03/20/2018  05:13 PM        16,663,680 M42_20180227_00000162_R.fits\n",
      "03/20/2018  05:13 PM        16,663,680 M42_20180227_00000163_R.fits\n",
      "03/20/2018  05:13 PM        16,663,680 M42_20180227_00000164_G.fits\n",
      "03/20/2018  05:13 PM        16,663,680 M42_20180227_00000165_G.fits\n",
      "03/20/2018  05:13 PM        16,663,680 M42_20180227_00000166_B.fits\n",
      "03/20/2018  05:13 PM        16,663,680 M42_20180227_00000167_B.fits\n",
      "03/20/2018  05:13 PM        16,663,680 situla.00000168.A.Dark.fit\n",
      "03/20/2018  05:13 PM        16,663,680 situla.00000169.A.Dark.fit\n",
      "03/20/2018  05:13 PM        16,663,680 situla.00000170.A.Dark.fit\n",
      "03/20/2018  05:13 PM        16,663,680 situla.00000171.A.Dark.fit\n",
      "03/20/2018  05:13 PM        16,663,680 situla.00000172.A.Dark.fit\n",
      "03/20/2018  05:13 PM        16,663,680 situla.00000173.A.Bias.fit\n",
      "03/20/2018  05:13 PM        16,663,680 situla.00000174.A.Bias.fit\n",
      "03/20/2018  05:13 PM        16,663,680 situla.00000175.A.Bias.fit\n",
      "03/20/2018  05:13 PM        16,663,680 situla.00000176.A.Bias.fit\n",
      "03/20/2018  05:13 PM        16,663,680 situla.00000177.A.Bias.fit\n",
      "03/20/2018  05:13 PM        16,663,680 situla.00000178.A.Bias.fit\n",
      "03/20/2018  05:13 PM        16,663,680 situla.00000179.A.Bias.fit\n",
      "03/20/2018  05:13 PM        16,663,680 situla.00000180.A.Bias.fit\n",
      "03/20/2018  05:13 PM        16,663,680 situla.00000181.A.Bias.fit\n",
      "03/20/2018  05:13 PM        16,663,680 situla.00000182.A.Bias.fit\n",
      "              34 File(s)    566,565,120 bytes\n",
      "               2 Dir(s)  804,635,099,136 bytes free\n"
     ]
    }
   ],
   "source": [
    "ls M42_Feb2017_Images\\\\"
   ]
  },
  {
   "cell_type": "code",
   "execution_count": 63,
   "metadata": {
    "collapsed": true
   },
   "outputs": [],
   "source": [
    "biasfiles = glob('M42_Feb2017_Images/*Bias*')\n",
    "nbias = len(biasfiles)\n",
    "darkfiles = glob('M42_Feb2017_Images/*Dark*')\n",
    "ndark = len(darkfiles)\n",
    "flatred = glob('M42_Feb2017_Images/*R.fits*')\n",
    "nrflat = len(flatred)\n",
    "flatgreen = glob('M42_Feb2017_Images/*G.fits*')\n",
    "ngflat = len(flatgreen)\n",
    "flatblue = glob('M42_Feb2017_Images/*B.fits*')\n",
    "nbflat = len(flatblue)\n",
    "datafiles = glob('M42_Feb2017_Images/*M42*')\n",
    "ndata = len(datafiles)"
   ]
  },
  {
   "cell_type": "code",
   "execution_count": 64,
   "metadata": {},
   "outputs": [
    {
     "name": "stdout",
     "output_type": "stream",
     "text": [
      "2504 3326\n"
     ]
    }
   ],
   "source": [
    "nx,ny = fits.open(datafiles[0])[0].data.shape\n",
    "print(nx,ny)"
   ]
  },
  {
   "cell_type": "code",
   "execution_count": 1,
   "metadata": {
    "collapsed": true
   },
   "outputs": [],
   "source": [
    "#observation = {'dark':{'frames':np.zeros([nx,ny,ndark]),'files':darkfiles,'hdrs':[],\n",
    "#                       'med':np.zeros(ndark),'std':np.zeros(ndark)},\n",
    "#             'bias':{'frames':np.zeros([nx,ny,nbias]),'files':biasfiles,'hdrs':[],\n",
    "#                     'med':np.zeros(nbias),'std':np.zeros(nbias)},\n",
    "#              'rflat':{'frames':np.zeros([nx,ny,nrflat]),'files':flatred,'hdrs':[],\n",
    "#                     'med':np.zeros(nrflat),'std':np.zeros(nrflat)},\n",
    "#              'gflat':{'frames':np.zeros([nx,ny,ngflat]),'files':flatgreen,'hdrs':[],\n",
    "#                     'med':np.zeros(ngflat),'std':np.zeros(ngflat)},\n",
    "#              'bflat':{'frames':np.zeros([nx,ny,nbflat]),'files':flatblue,'hdrs':[],\n",
    "#                     'med':np.zeros(nbflat),'std':np.zeros(nbflat)},\n",
    "#              'data':{'frames':np.zeros([nx,ny,ndata]),'files':datafiles,'hdrs':[],\n",
    "#                     'med':np.zeros(ndata),'std':np.zeros(ndata)}}"
   ]
  },
  {
   "cell_type": "code",
   "execution_count": null,
   "metadata": {
    "collapsed": true
   },
   "outputs": [],
   "source": [
    "#for imagetype in observation.keys():\n",
    "#    print(imagetype,observation[imagetype]['frames'].shape)\n",
    "#    for i,file in enumerate(observation[imagetype]['files']):\n",
    "#        f = fits.open(file)\n",
    "        #dat = fits.open(file)[0].data.copy()\n",
    "        #observation[imagetype]['frames'][:,:,i] = dat\n",
    "        #observation[imagetype]['med'][i] = np.median(dat)\n",
    "        #observation[imagetype]['std'][i] = np.std(dat)\n",
    "#        f.close()"
   ]
  },
  {
   "cell_type": "code",
   "execution_count": 65,
   "metadata": {
    "collapsed": true
   },
   "outputs": [],
   "source": [
    "def ShowImage(image,med=None,std=None,sigma=3,colorbar=True,vmin=None,vmax=None):\n",
    "    if med==None:\n",
    "        med = np.median(image)\n",
    "    if std==None:\n",
    "        std = np.std(image)\n",
    "    plt.figure(figsize=(10,10))\n",
    "    if vmin == None:\n",
    "        vmin=med-sigma*std\n",
    "    if vmax == None:\n",
    "        vmax=med+sigma*std\n",
    "    plt.imshow(image,vmin=vmin,vmax=vmin)\n",
    "    if colorbar:\n",
    "        plt.colorbar()\n",
    "    plt.show()\n",
    "def ShowObsFrame(observation,imagetype,index,sigma=3):\n",
    "    dat = observation[imagetype]['frames'][:,:,index]\n",
    "    med = observation[imagetype]['med'][index]\n",
    "    std = observation[imagetype]['std'][index]\n",
    "    ShowImage(dat,med=med,std=std,sigma=sigma)\n",
    "    return"
   ]
  },
  {
   "cell_type": "code",
   "execution_count": 66,
   "metadata": {},
   "outputs": [
    {
     "data": {
      "text/plain": [
       "['M42_Feb2017_Images\\\\M42_20180227_00000141_R.fits',\n",
       " 'M42_Feb2017_Images\\\\M42_20180227_00000144_R.fits',\n",
       " 'M42_Feb2017_Images\\\\M42_20180227_00000147_R.fits',\n",
       " 'M42_Feb2017_Images\\\\M42_20180227_00000148_R.fits',\n",
       " 'M42_Feb2017_Images\\\\M42_20180227_00000162_R.fits',\n",
       " 'M42_Feb2017_Images\\\\M42_20180227_00000163_R.fits']"
      ]
     },
     "execution_count": 66,
     "metadata": {},
     "output_type": "execute_result"
    }
   ],
   "source": [
    "flatred"
   ]
  },
  {
   "cell_type": "code",
   "execution_count": 68,
   "metadata": {},
   "outputs": [],
   "source": [
    "#pulls in red images, makes red flat\n",
    "for i, file in enumerate(flatred):\n",
    "    with fits.open(file) as f:\n",
    "        dat = f[0].data.copy()\n",
    "        hdr = f[0].header.copy()\n",
    "flatred = np.median(dat, axis = 0) "
   ]
  },
  {
   "cell_type": "code",
   "execution_count": 34,
   "metadata": {
    "collapsed": true
   },
   "outputs": [],
   "source": [
    "#pulls in green images, makes green flat\n",
    "for i, file in enumerate(flatgreen):\n",
    "    with fits.open(file) as f:\n",
    "        dat = f[0].data.copy()\n",
    "        hdr = f[0].header.copy()\n",
    "flatgreen = np.median(dat, axis = 0)"
   ]
  },
  {
   "cell_type": "code",
   "execution_count": 69,
   "metadata": {
    "collapsed": true
   },
   "outputs": [],
   "source": [
    "#pulls in blue images, makes blue flat\n",
    "for i, file in enumerate(flatblue):\n",
    "    with fits.open(file) as f:\n",
    "        dat = f[0].data.copy()\n",
    "        hdr = f[0].header.copy()\n",
    "flatblue = np.median(dat, axis = 0)"
   ]
  },
  {
   "cell_type": "code",
   "execution_count": 71,
   "metadata": {},
   "outputs": [],
   "source": [
    "#make mean of dark\n",
    "for i, file in enumerate(darkfiles):\n",
    "    with fits.open(file) as f:\n",
    "        dat = f[0].data.copy()\n",
    "        hdr = f[0].header.copy()\n",
    "darkfiles = np.mean(dat, axis = 0)"
   ]
  },
  {
   "cell_type": "code",
   "execution_count": 72,
   "metadata": {
    "collapsed": true
   },
   "outputs": [],
   "source": [
    "for i, file in enumerate(biasfiles):\n",
    "    with fits.open(file) as f:\n",
    "        dat = f[0].data.copy()\n",
    "        hdr = f[0].header.copy()\n",
    "biasfiles = np.mean(dat, axis = 0)"
   ]
  },
  {
   "cell_type": "code",
   "execution_count": 46,
   "metadata": {},
   "outputs": [],
   "source": [
    "darkfiles = darkfiles - biasfiles\n",
    "\n",
    "flatred = flatred - darkfiles\n",
    "flatgreen = flatgreen - darkfiles\n",
    "flatblue = flatblue - darkfiles\n",
    "\n",
    "normflatr = (flatred - biasfiles)/(np.median(flatred-biasfiles)) #red\n",
    "normflatg = (flatgreen - biasfiles)/(np.median(flatgreen-biasfiles)) #green\n",
    "normflatb = (flatblue - biasfiles)/(np.median(flatgreen-biasfiles))#blue"
   ]
  },
  {
   "cell_type": "code",
   "execution_count": 58,
   "metadata": {},
   "outputs": [],
   "source": [
    "image_processed_r = (flatred[0]-biasfiles)/normflatr\n",
    "image_processed_g = (flatgreen[0]-biasfiles)/normflatg\n",
    "image_processed_b = (flatblue[0]-biasfiles)/normflatb"
   ]
  },
  {
   "cell_type": "code",
   "execution_count": 52,
   "metadata": {},
   "outputs": [],
   "source": [
    "normflats = fits.PrimaryHDU(normflatr)\n",
    "normflats.writeto('flats/flat-r.fits',overwrite=True)\n",
    "\n",
    "normflats = fits.PrimaryHDU(normflatg)\n",
    "normflats.writeto('flats/flat-g.fits',overwrite=True)\n",
    "\n",
    "normflats = fits.PrimaryHDU(normflatb)\n",
    "normflats.writeto('flats/flat-b.fits', overwrite=True)"
   ]
  },
  {
   "cell_type": "code",
   "execution_count": 59,
   "metadata": {
    "collapsed": true
   },
   "outputs": [],
   "source": [
    "processed_r = fits.PrimaryHDU(image_processed_r)\n",
    "processed_r.writeto('flats/image_processed_r.fits',overwrite=True)\n",
    "\n",
    "processed_g = fits.PrimaryHDU(image_processed_g)\n",
    "processed_g.writeto('flats/image_processed_g.fits',overwrite=True)\n",
    "\n",
    "processed_b = fits.PrimaryHDU(image_processed_b)\n",
    "processed_b.writeto('flats/image_processed_b.fits', overwrite=True)"
   ]
  },
  {
   "cell_type": "markdown",
   "metadata": {},
   "source": [
    "### The processed images that I have exported are attached. I am not sure where I went wrong but these files come up as a single line rather than a 2D image. Anyways I tried"
   ]
  },
  {
   "cell_type": "code",
   "execution_count": null,
   "metadata": {
    "collapsed": true
   },
   "outputs": [],
   "source": []
  }
 ],
 "metadata": {
  "kernelspec": {
   "display_name": "Python 3",
   "language": "python",
   "name": "python3"
  },
  "language_info": {
   "codemirror_mode": {
    "name": "ipython",
    "version": 3
   },
   "file_extension": ".py",
   "mimetype": "text/x-python",
   "name": "python",
   "nbconvert_exporter": "python",
   "pygments_lexer": "ipython3",
   "version": "3.6.3"
  }
 },
 "nbformat": 4,
 "nbformat_minor": 2
}
